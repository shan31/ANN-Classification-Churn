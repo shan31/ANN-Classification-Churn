{
 "cells": [
  {
   "cell_type": "code",
   "execution_count": 76,
   "id": "588f0f33",
   "metadata": {},
   "outputs": [],
   "source": [
    "import tensorflow as tf\n",
    "from tensorflow.keras.models import load_model\n",
    "import pickle\n",
    "import pandas as pd\n",
    "import numpy as np"
   ]
  },
  {
   "cell_type": "code",
   "execution_count": 77,
   "id": "4719a664",
   "metadata": {},
   "outputs": [
    {
     "name": "stderr",
     "output_type": "stream",
     "text": [
      "WARNING:absl:Compiled the loaded model, but the compiled metrics have yet to be built. `model.compile_metrics` will be empty until you train or evaluate the model.\n"
     ]
    }
   ],
   "source": [
    "## Load the trainedmodel,scaler pickle,onehot\n",
    "model = load_model('model.h5')\n",
    "\n",
    "with open('one_hot_encoder_geo.pkl','rb') as file:\n",
    "    one_hot_encoder_geo=pickle.load(file)\n",
    "\n",
    "with open('label_encoder_gender.pkl','rb') as file:\n",
    "    label_encoder_gender=pickle.load(file)\n",
    "\n",
    "with open('scaler.pkl','rb') as file:\n",
    "    scaler=pickle.load(file)"
   ]
  },
  {
   "cell_type": "code",
   "execution_count": null,
   "id": "331a02e8",
   "metadata": {},
   "outputs": [],
   "source": [
    "input_data = {\n",
    "    \"CreditScore\":600,\n",
    "    \"Geography\":\"France\",\n",
    "    \"Gender\":\"Male\",\n",
    "    \"Age\":40,\n",
    "    \"Tenure\":6,\n",
    "    \"Balance\":60000,\n",
    "    \"NumOfProducts\":3,\n",
    "    \"HasCrCard\":1,\n",
    "    \"IsActiveMember\":1,\n",
    "    \"EstimatedSalary\":50000\n",
    "}"
   ]
  },
  {
   "cell_type": "code",
   "execution_count": 81,
   "id": "9beaa313",
   "metadata": {},
   "outputs": [
    {
     "data": {
      "text/plain": [
       "array([[-0.53598516,  0.91324755,  0.10479359,  0.34567966, -0.25781119,\n",
       "         2.53355998,  0.64920267,  0.97481699, -0.87683221,  1.00150113,\n",
       "        -0.57946723, -0.57638802]])"
      ]
     },
     "execution_count": 81,
     "metadata": {},
     "output_type": "execute_result"
    }
   ],
   "source": [
    "\n",
    "# Convert input dictionary to DataFrame\n",
    "input_df = pd.DataFrame([input_data])\n",
    "\n",
    "# Encode 'Geography' using the fitted OneHotEncoder\n",
    "geo_encoded = one_hot_encoder_geo.transform(input_df[['Geography']])\n",
    "geo_encoded_df = pd.DataFrame(geo_encoded.toarray(), columns=one_hot_encoder_geo.get_feature_names_out(['Geography']))\n",
    "# print(geo_encoded_df)\n",
    "# Encode 'Gender' using the fitted LabelEncoder\n",
    "input_df['Gender'] = label_encoder_gender.transform(input_df['Gender'])\n",
    "\n",
    "# Drop original 'Geography' and concatenate encoded\n",
    "input_df = input_df.drop(columns=['Geography'])\n",
    "input_df = pd.concat([geo_encoded_df, input_df], axis=1)\n",
    "\n",
    "# Scale features\n",
    "# scaled_input = scaler.transform(input_df)\n",
    "\n",
    "expected_columns = scaler.feature_names_in_\n",
    "input_df = input_df[expected_columns]\n",
    "\n",
    "# Scale\n",
    "scaled_input = scaler.transform(input_df)\n",
    "scaled_input\n",
    "# # Make prediction\n",
    "# prediction = model.predict(scaled_input)\n",
    "# print(\"Prediction (1 = Exit, 0 = Stay):\", int(prediction[0][0] > 0.5))\n"
   ]
  },
  {
   "cell_type": "code",
   "execution_count": 82,
   "id": "59342632",
   "metadata": {},
   "outputs": [
    {
     "name": "stdout",
     "output_type": "stream",
     "text": [
      "\u001b[1m1/1\u001b[0m \u001b[32m━━━━━━━━━━━━━━━━━━━━\u001b[0m\u001b[37m\u001b[0m \u001b[1m0s\u001b[0m 136ms/step\n"
     ]
    },
    {
     "data": {
      "text/plain": [
       "array([[0.79906696]], dtype=float32)"
      ]
     },
     "execution_count": 82,
     "metadata": {},
     "output_type": "execute_result"
    }
   ],
   "source": [
    "# Prediction\n",
    "prediction = model.predict(scaled_input)\n",
    "prediction"
   ]
  },
  {
   "cell_type": "code",
   "execution_count": 83,
   "id": "f90afb88",
   "metadata": {},
   "outputs": [
    {
     "data": {
      "text/plain": [
       "0.79906696"
      ]
     },
     "execution_count": 83,
     "metadata": {},
     "output_type": "execute_result"
    }
   ],
   "source": [
    "prediction_proba = prediction[0][0]\n",
    "prediction_proba"
   ]
  },
  {
   "cell_type": "code",
   "execution_count": 84,
   "id": "6b675b5b",
   "metadata": {},
   "outputs": [
    {
     "name": "stdout",
     "output_type": "stream",
     "text": [
      "The customer is likely to churn\n"
     ]
    }
   ],
   "source": [
    "if prediction_proba > 0.5:\n",
    "    print('The customer is likely to churn')\n",
    "else:\n",
    "    print('The customer is not likely to churn')"
   ]
  }
 ],
 "metadata": {
  "kernelspec": {
   "display_name": "Python 3",
   "language": "python",
   "name": "python3"
  },
  "language_info": {
   "codemirror_mode": {
    "name": "ipython",
    "version": 3
   },
   "file_extension": ".py",
   "mimetype": "text/x-python",
   "name": "python",
   "nbconvert_exporter": "python",
   "pygments_lexer": "ipython3",
   "version": "3.12.9"
  }
 },
 "nbformat": 4,
 "nbformat_minor": 5
}
